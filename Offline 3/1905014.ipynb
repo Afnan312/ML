{
 "cells": [
  {
   "cell_type": "code",
   "execution_count": 1,
   "metadata": {},
   "outputs": [],
   "source": [
    "import numpy as np\n",
    "from torchvision import datasets, transforms\n",
    "from matplotlib import pyplot as plt\n",
    "from sklearn.metrics import accuracy_score, f1_score, confusion_matrix, ConfusionMatrixDisplay\n",
    "from sklearn.model_selection import train_test_split\n",
    "import seaborn as sn\n",
    "import pandas as pd\n",
    "import pickle\n",
    "np.random.seed(1)"
   ]
  },
  {
   "cell_type": "markdown",
   "metadata": {},
   "source": [
    "Process data"
   ]
  },
  {
   "cell_type": "code",
   "execution_count": 2,
   "metadata": {},
   "outputs": [],
   "source": [
    "def preprocess(dataset):\n",
    "    images = []\n",
    "    labels = []\n",
    "    for data in dataset:\n",
    "        image = np.array(data[0].numpy().squeeze().flatten())\n",
    "        label = data[1]\n",
    "\n",
    "        images.append(image)\n",
    "        labels.append(label)\n",
    "    \n",
    "    return images, labels"
   ]
  },
  {
   "cell_type": "code",
   "execution_count": 3,
   "metadata": {},
   "outputs": [],
   "source": [
    "def encode(Y):\n",
    "    Y = np.eye(10)[Y]\n",
    "    return Y"
   ]
  },
  {
   "cell_type": "code",
   "execution_count": 4,
   "metadata": {},
   "outputs": [],
   "source": [
    "def load_data():\n",
    "    transform = transforms.ToTensor()\n",
    "\n",
    "    train_dataset = datasets.FashionMNIST(root='./data', train=True, transform=transform, download=True)\n",
    "\n",
    "    test_dataset = datasets.FashionMNIST(root='./data', train=False, transform=transform, download=True)\n",
    "\n",
    "    tv_images, tv_labels = preprocess(train_dataset)\n",
    "    X_train, X_val, y_train, y_val = train_test_split(tv_images, tv_labels, train_size=0.8, random_state=42)\n",
    "\n",
    "    X_test, y_test = preprocess(test_dataset)\n",
    "\n",
    "    y_train = encode(y_train)\n",
    "    y_val = encode(y_val)\n",
    "    y_test = encode(y_test)\n",
    "\n",
    "    X_train = np.array(X_train)\n",
    "    X_val = np.array(X_val)\n",
    "    y_train = np.array(y_train)\n",
    "    y_val = np.array(y_val)\n",
    "    X_test = np.array(X_test)\n",
    "    y_test = np.array(y_test)\n",
    "\n",
    "    return X_train, X_val, y_train, y_val, X_test, y_test"
   ]
  },
  {
   "cell_type": "markdown",
   "metadata": {},
   "source": [
    "Optimization"
   ]
  },
  {
   "cell_type": "code",
   "execution_count": 5,
   "metadata": {},
   "outputs": [],
   "source": [
    "class AdamOptimizer:\n",
    "    def __init__(self, params, lr=0.005, beta1=0.9, beta2=0.999, eps=1e-6):\n",
    "        self.params = params\n",
    "        self.lr = lr\n",
    "        self.beta1 = beta1\n",
    "        self.beta2 = beta2\n",
    "        self.eps = eps\n",
    "        self.m = [np.zeros_like(p) for p in params]\n",
    "        self.v = [np.zeros_like(p) for p in params]\n",
    "        self.t = 0\n",
    "    \n",
    "    def update(self, grads, lr):\n",
    "        self.lr = lr\n",
    "        self.t += 1\n",
    "        updated_params = []\n",
    "        for i, (param, grad) in enumerate(zip(self.params, grads)):\n",
    "            self.m[i] = self.beta1 * self.m[i] + (1 - self.beta1) * grad\n",
    "            self.v[i] = self.beta2 * self.v[i] + (1 - self.beta2) * np.square(grad)\n",
    "            \n",
    "            m_hat = self.m[i] / (1 - self.beta1 ** self.t)\n",
    "            v_hat = self.v[i] / (1 - self.beta2 ** self.t)\n",
    "            \n",
    "            param -= self.lr * m_hat / (np.sqrt(v_hat) + self.eps)\n",
    "            updated_params.append(param)\n",
    "\n",
    "        return updated_params\n"
   ]
  },
  {
   "cell_type": "markdown",
   "metadata": {},
   "source": [
    "Normalization"
   ]
  },
  {
   "cell_type": "code",
   "execution_count": 6,
   "metadata": {},
   "outputs": [],
   "source": [
    "class BatchNorm:\n",
    "    def __init__(self, outputs, eps=1e-6):\n",
    "        self.outputs = outputs\n",
    "        self.gamma = np.ones((1, outputs))\n",
    "        self.beta = np.zeros((1, outputs))\n",
    "        self.eps = eps\n",
    "        self.optimizer = AdamOptimizer([self.gamma, self.beta])\n",
    "        self.mean = 0 \n",
    "        self.variance = 0\n",
    "\n",
    "    def reset(self):\n",
    "        self.gamma = np.ones((1, self.outputs))\n",
    "        self.beta = np.zeros((1, self.outputs))\n",
    "        self.optimizer = AdamOptimizer([self.gamma, self.beta])\n",
    "        self.mean = 0 \n",
    "        self.variance = 0\n",
    "\n",
    "    def clear(self):\n",
    "        self.z_norm = None\n",
    "        self.z_out = None\n",
    "\n",
    "    def forward(self, z, training=True):\n",
    "        if training:\n",
    "            self.mean = np.mean(z, axis=0)\n",
    "            self.variance = np.var(z, axis=0)\n",
    "        self.z_norm = (z - self.mean) / np.sqrt(self.variance + self.eps)\n",
    "        self.z_out = self.gamma * self.z_norm + self.beta\n",
    "        return self.z_out\n",
    "\n",
    "    def backward(self, dz, lr):\n",
    "        dga = np.sum(dz * self.z_norm, axis=0)\n",
    "        dbe = np.sum(dz, axis=0)\n",
    "        N = dz.shape[0]\n",
    "        dxstd = dz * self.gamma\n",
    "        var_sqrt_i = 1.0/(np.sqrt(self.variance + self.eps))\n",
    "        dx = (1.0 / N) * var_sqrt_i * (N * dxstd - np.sum(dxstd, axis=0) - self.z_norm * np.sum(dxstd * self.z_norm, axis=0))\n",
    "\n",
    "        self.gamma, self.beta = self.optimizer.update([dga, dbe], lr)\n",
    "\n",
    "        return dx"
   ]
  },
  {
   "cell_type": "markdown",
   "metadata": {},
   "source": [
    "Activation"
   ]
  },
  {
   "cell_type": "code",
   "execution_count": 7,
   "metadata": {},
   "outputs": [],
   "source": [
    "class Relu:\n",
    "    def __init__(self):\n",
    "        self.A = None\n",
    "\n",
    "    def reset(self):\n",
    "        self.A = None\n",
    "\n",
    "    def clear(self):\n",
    "        self.A = None\n",
    "        \n",
    "    def forward(self, z, training):\n",
    "        self.A = np.maximum(0, z)\n",
    "        return self.A\n",
    "    \n",
    "    def backward(self, dA, lr):\n",
    "        return np.where(self.A > 0, dA, 0)"
   ]
  },
  {
   "cell_type": "markdown",
   "metadata": {},
   "source": [
    "Regularization"
   ]
  },
  {
   "cell_type": "code",
   "execution_count": 8,
   "metadata": {},
   "outputs": [],
   "source": [
    "class Dropout:\n",
    "    def __init__(self, prob):\n",
    "        self.prob = prob\n",
    "        self.mask = None\n",
    "\n",
    "    def reset(self):\n",
    "        self.mask = None\n",
    "\n",
    "    def clear(self):\n",
    "        self.mask = None\n",
    "\n",
    "    def forward(self, A, training=True):\n",
    "        if training:\n",
    "            self.mask = (np.random.rand(*A.shape) < self.prob).astype(float)\n",
    "            A_dropped = A * self.mask / self.prob\n",
    "            return A_dropped\n",
    "        return A\n",
    "    \n",
    "    def backward(self, dA, lr):\n",
    "        return dA * self.mask\n",
    "    \n",
    "    def dropout(self, A):\n",
    "        mask = np.random.rand(*A.shape) < self.prob\n",
    "        return A * mask/self.prob, mask"
   ]
  },
  {
   "cell_type": "markdown",
   "metadata": {},
   "source": [
    "Regression"
   ]
  },
  {
   "cell_type": "code",
   "execution_count": 9,
   "metadata": {},
   "outputs": [],
   "source": [
    "class Softmax:\n",
    "    def __init__(self):\n",
    "        pass\n",
    "\n",
    "    def reset(self):\n",
    "        pass\n",
    "\n",
    "    def clear(self):\n",
    "        self.A = None\n",
    "\n",
    "    def forward(self, z, training):\n",
    "        exp_z = np.exp(z - np.max(z, axis=1, keepdims=True))\n",
    "        self.A = exp_z / np.sum(exp_z, axis=1, keepdims=True)\n",
    "        return self.A\n",
    "    \n",
    "    def backward(self, dz, lr):\n",
    "        return self.A - dz\n",
    "    \n",
    "    def compute_loss(self, A, Y):\n",
    "        m = Y.shape[0]\n",
    "        log_ll = -np.log(A[range(m), Y])\n",
    "        loss = np.sum(log_ll) / m\n",
    "        return loss"
   ]
  },
  {
   "cell_type": "markdown",
   "metadata": {},
   "source": [
    "Dense Layer"
   ]
  },
  {
   "cell_type": "code",
   "execution_count": 10,
   "metadata": {},
   "outputs": [],
   "source": [
    "class DenseLayer:\n",
    "    def __init__(self, inputs, outputs):\n",
    "        self.inputs = inputs\n",
    "        self.outputs = outputs\n",
    "        \n",
    "        std = np.sqrt(2 / (inputs + outputs))\n",
    "        self.biases = np.zeros(outputs)\n",
    "        self.weights = np.random.normal(0, std, (inputs, outputs))\n",
    "        #self.weights = np.random.randn(inputs, outputs)*np.sqrt(2.0/inputs)\n",
    "        self.optimizer = AdamOptimizer([self.weights, self.biases])\n",
    "\n",
    "    def reset(self):\n",
    "        std = np.sqrt(2 / (self.inputs + self.outputs))\n",
    "        self.biases = np.zeros(self.outputs)\n",
    "        self.weights = np.random.normal(0, std, (self.inputs, self.outputs))\n",
    "        self.optimizer = AdamOptimizer([self.weights, self.biases])\n",
    "\n",
    "    def clear(self):\n",
    "        self.X = None\n",
    "        \n",
    "\n",
    "    def forward(self, X, training):\n",
    "        self.X = X\n",
    "        z = np.dot(X, self.weights) + self.biases\n",
    "        return z\n",
    "    \n",
    "    def backward(self, dz, lr):\n",
    "        m = dz.shape[1]\n",
    "        dw = np.dot(self.X.T, dz) / m\n",
    "        db = np.mean(dz, axis=0)\n",
    "\n",
    "        self.weights, self.biases = self.optimizer.update([dw, db], lr)\n",
    "\n",
    "        return np.dot(dz, self.weights.T)/m"
   ]
  },
  {
   "cell_type": "markdown",
   "metadata": {},
   "source": [
    "Prediction for testing"
   ]
  },
  {
   "cell_type": "code",
   "execution_count": 11,
   "metadata": {},
   "outputs": [],
   "source": [
    "def predict(fnn, input):\n",
    "    output = input\n",
    "    for layer in fnn:\n",
    "        output = layer.forward(output, training=False)\n",
    "    return output"
   ]
  },
  {
   "cell_type": "markdown",
   "metadata": {},
   "source": [
    "Compute Loss"
   ]
  },
  {
   "cell_type": "code",
   "execution_count": 12,
   "metadata": {},
   "outputs": [],
   "source": [
    "def compute_loss(y_pred, y_true):\n",
    "    m = y_true.shape[0]\n",
    "    eps = 1e-7\n",
    "    y_pred = np.clip(y_pred, eps, 1. - eps)\n",
    "    #log_ll = -np.log(y_pred[range(m), y_true])\n",
    "    loss = -np.sum(y_true * np.log(y_pred))/m\n",
    "    return loss"
   ]
  },
  {
   "cell_type": "markdown",
   "metadata": {},
   "source": [
    "Train Model"
   ]
  },
  {
   "cell_type": "code",
   "execution_count": 13,
   "metadata": {},
   "outputs": [],
   "source": [
    "def train(fnn, X_train, y_train, X_val, y_val, epochs=10, lr=0.005, batch=1000):\n",
    "    train_loss, validation_loss, train_acc, val_acc, val_f1 = [], [], [], [], []\n",
    "    best_val_f1 = 0\n",
    "    best_val_pred = None\n",
    "    best_model = None\n",
    "    n = len(X_train)\n",
    "    for epoch in range(epochs):\n",
    "        shuffle_indices = np.random.permutation(n)\n",
    "        X_train = X_train[shuffle_indices]\n",
    "        y_train = y_train[shuffle_indices]\n",
    "        acc = 0.0\n",
    "        correct_train = 0\n",
    "        correct_val = 0\n",
    "        total = 0\n",
    "        training_loss = 0.0\n",
    "        val_loss = 0.0\n",
    "\n",
    "        batch_losses = []\n",
    "        for i in range(0, n, batch):\n",
    "            X_batch = X_train[i: i+batch]\n",
    "            y_batch = y_train[i: i+batch]\n",
    "            output = X_batch\n",
    "            \n",
    "\n",
    "            for layer in fnn:\n",
    "                output = layer.forward(output, training=True)\n",
    "\n",
    "            loss = compute_loss(output, y_batch)\n",
    "            training_loss += loss.sum()\n",
    "\n",
    "            correct_train += np.sum(np.argmax(output, axis=1) == np.argmax(y_batch, axis=1))\n",
    "            total += len(y_batch)\n",
    "\n",
    "            dA = y_batch\n",
    "            for layer in reversed(fnn):\n",
    "                dA = layer.backward(dA, lr)\n",
    "\n",
    "        train_loss.append(training_loss)\n",
    "        train_acc.append(correct_train/total)\n",
    "        \n",
    "        output = X_val\n",
    "\n",
    "        for layer in fnn:\n",
    "            output = layer.forward(output, training=False)\n",
    "        \n",
    "        loss = compute_loss(output, y_val)\n",
    "        val_loss = loss.sum()\n",
    "        validation_loss.append(val_loss)\n",
    "\n",
    "        correct_val += np.sum(np.argmax(output, axis=1) == np.argmax(y_val, axis=1))\n",
    "        acc = correct_val / len(X_val)\n",
    "        val_acc.append(acc)\n",
    "\n",
    "        f1 = f1_score(np.argmax(y_val, axis=1), np.argmax(output, axis=1), average='macro')\n",
    "        val_f1.append(f1)\n",
    "\n",
    "        if f1 > best_val_f1:\n",
    "            best_val_f1 = f1\n",
    "            best_val_pred = output\n",
    "            best_model = fnn\n",
    "\n",
    "            #epoch_loss = np.mean(batch_losses)\n",
    "        print(f\"Epoch {epoch+1}/{epochs}, Training Loss: {training_loss}, Validation Loss: {val_loss}\")\n",
    "        print(f\"Training Accuracy: {correct_train / total * 100}, Validation Accuracy: {correct_val / len(y_val) * 100}\", f\"F1 Score: {f1}\")\n",
    "\n",
    "    plt.plot(train_loss, label='Train Loss')\n",
    "    plt.plot(validation_loss, label='Validation Loss')\n",
    "    plt.xlabel('Epoch')\n",
    "    plt.ylabel('Loss')\n",
    "    plt.legend()\n",
    "    plt.show()\n",
    "\n",
    "    plt.plot(train_acc, label='Train Accuracy')\n",
    "    plt.plot(val_acc, label='Validation Accuracy')\n",
    "    plt.xlabel('Epoch')\n",
    "    plt.ylabel('Accuracy')\n",
    "    plt.legend()\n",
    "    plt.show()\n",
    "\n",
    "    plt.plot(val_f1, label='Validation F1 Score (macro)')\n",
    "    plt.xlabel('Epoch')\n",
    "    plt.ylabel('F1 Score')\n",
    "    plt.legend()\n",
    "    plt.show()\n",
    "    \n",
    "    return best_val_f1, best_val_pred, best_model"
   ]
  },
  {
   "cell_type": "markdown",
   "metadata": {},
   "source": [
    "Find model performances"
   ]
  },
  {
   "cell_type": "code",
   "execution_count": 14,
   "metadata": {},
   "outputs": [],
   "source": [
    "def fashionmnist():\n",
    "    X_train, X_val, y_train, y_val, X_test, y_test = load_data()\n",
    "\n",
    "    fnns = [\n",
    "        [\n",
    "            DenseLayer(28*28, 512),\n",
    "            Relu(),\n",
    "            DenseLayer(512, 256),\n",
    "            BatchNorm(256),\n",
    "            Relu(),\n",
    "            Dropout(0.8),\n",
    "            DenseLayer(256, 10),\n",
    "            Softmax()\n",
    "        ],\n",
    "        [\n",
    "            DenseLayer(28*28, 512),\n",
    "            BatchNorm(512),\n",
    "            Relu(),\n",
    "            Dropout(0.8),\n",
    "            DenseLayer(512, 256),\n",
    "            BatchNorm(256),\n",
    "            Relu(),\n",
    "            Dropout(0.8),\n",
    "            DenseLayer(256, 10),\n",
    "            Softmax()\n",
    "        ],\n",
    "        [\n",
    "            DenseLayer(28*28, 512),\n",
    "            BatchNorm(512),\n",
    "            Relu(),\n",
    "            Dropout(0.8),\n",
    "            DenseLayer(512, 256),\n",
    "            BatchNorm(256),\n",
    "            Relu(),\n",
    "            Dropout(0.8),\n",
    "            DenseLayer(256, 128),\n",
    "            BatchNorm(128),\n",
    "            Relu(),\n",
    "            Dropout(0.8),\n",
    "            DenseLayer(128, 10),\n",
    "            Softmax()\n",
    "        ]\n",
    "    ]\n",
    "\n",
    "    lrs = [5e-3, 1e-3, 5e-4, 1e-4]\n",
    "    best_f1 = 0\n",
    "    best_model = None\n",
    "    best_lr = 0\n",
    "    best_model_no = 0\n",
    "\n",
    "    for lr in lrs:\n",
    "        print(f'Learning rate: {lr}')\n",
    "        for i, fnn in enumerate(fnns):\n",
    "            for layer in fnn:\n",
    "                layer.reset()\n",
    "            print(f'Model {i+1}')\n",
    "\n",
    "            f1, pred, model = train(fnn, X_train, y_train, X_val, y_val, epochs=20, lr=lr)\n",
    "            print(f'Best f1-score: {f1}')\n",
    "\n",
    "            if f1 > best_f1:\n",
    "                best_f1 = f1\n",
    "                best_model = model\n",
    "                best_lr = lr\n",
    "                best_model_no = i+1\n",
    "                \n",
    "            cm = confusion_matrix(np.argmax(y_val, axis=1), np.argmax(pred, axis=1))\n",
    "            labels = ['t-shirt', 'trouser', 'pullover', 'dress', 'coat',\n",
    "                        'sandal', 'shirt', 'sneaker', 'bag', 'ankle boot']\n",
    "            disp = ConfusionMatrixDisplay(confusion_matrix=cm, display_labels=labels)\n",
    "            \n",
    "            disp.plot(cmap=plt.cm.Blues)\n",
    "            plt.xticks(rotation=90)\n",
    "            plt.title(\"Confusion Matrix\")\n",
    "            plt.show()\n",
    "\n",
    "    print(f'Best f-1: {best_f1}, Best LR: {best_lr}, Best Model no.: {best_model_no}')\n",
    "    return best_model\n",
    "  "
   ]
  },
  {
   "cell_type": "markdown",
   "metadata": {},
   "source": [
    "Choose best model and pickle dump"
   ]
  },
  {
   "cell_type": "code",
   "execution_count": null,
   "metadata": {},
   "outputs": [],
   "source": [
    "best_model = fashionmnist()\n",
    "\n",
    "with open('model_1905014.pkl', 'wb') as f:\n",
    "    for layer in best_model:\n",
    "        layer.clear()\n",
    "    pickle.dump(best_model, f)"
   ]
  },
  {
   "cell_type": "markdown",
   "metadata": {},
   "source": [
    "Testing Block"
   ]
  },
  {
   "cell_type": "code",
   "execution_count": 16,
   "metadata": {},
   "outputs": [
    {
     "name": "stdout",
     "output_type": "stream",
     "text": [
      "Test accuracy: 24.14843533647189\n",
      "Test f1 score: 0.09156366998567561\n"
     ]
    }
   ],
   "source": [
    "with open('model_1905014.pkl', 'rb') as f:\n",
    "    model = pickle.load(f)\n",
    "\n",
    "#test_dataset = datasets.FashionMNIST(root='./data', train=False, transform=transforms.ToTensor(), download=True)\n",
    "with open('a1.pkl', 'rb') as a1:\n",
    "  test_dataset = pickle.load(a1)\n",
    "X_test, y_test = preprocess(test_dataset)\n",
    "\n",
    "y_test = encode(y_test)\n",
    "\n",
    "X_test = np.array(X_test)\n",
    "y_test = np.array(y_test)\n",
    "\n",
    "prediction = predict(model, X_test)\n",
    "cm = confusion_matrix(np.argmax(y_test, axis=1), np.argmax(prediction, axis=1))\n",
    "\n",
    "accuracy = np.mean(np.argmax(prediction, axis=1) == np.argmax(y_test, axis=1))\n",
    "print(f\"Test accuracy: \" + str(accuracy*100))\n",
    "print(f\"Test f1 score: \" + str(f1_score(np.argmax(y_test, axis=1), np.argmax(prediction, axis=1), average='macro')))\n",
    "\n",
    "# labels = ['t-shirt', 'trouser', 'pullover', 'dress', 'coat',\n",
    "#             'sandal', 'shirt', 'sneaker', 'bag', 'ankle boot']\n",
    "# disp = ConfusionMatrixDisplay(confusion_matrix=cm, display_labels=labels)\n",
    "\n",
    "# disp.plot(cmap=plt.cm.Blues)\n",
    "# plt.xticks(rotation=90)\n",
    "# plt.title(\"Confusion Matrix\")\n",
    "# plt.show()\n"
   ]
  }
 ],
 "metadata": {
  "kernelspec": {
   "display_name": "Python 3",
   "language": "python",
   "name": "python3"
  },
  "language_info": {
   "codemirror_mode": {
    "name": "ipython",
    "version": 3
   },
   "file_extension": ".py",
   "mimetype": "text/x-python",
   "name": "python",
   "nbconvert_exporter": "python",
   "pygments_lexer": "ipython3",
   "version": "3.12.5"
  }
 },
 "nbformat": 4,
 "nbformat_minor": 2
}
